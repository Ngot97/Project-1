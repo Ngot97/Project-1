{
 "cells": [
  {
   "cell_type": "markdown",
   "id": "152d3ad6-1e51-4cc1-ac32-48648b8b25cd",
   "metadata": {},
   "source": [
    "## visualising the distribution of earthquakes for the top 20 countries with the highest earthquake counts based on latitude and longitude/ Interactive map using hvplot and geoviews"
   ]
  },
  {
   "cell_type": "code",
   "execution_count": null,
   "id": "85c3d008-3f15-47d1-be83-98b8c3d9f38b",
   "metadata": {},
   "outputs": [],
   "source": [
    "# Filter DataFrame for the top 20 countries\n",
    "top_countries_df = worldwide_earthquake_df[worldwide_earthquake_df['COUNTRY'].isin(top_countries.index)]\n",
    "\n",
    "# Define a GeoDataFrame with the earthquakes and their coordinates\n",
    "gdf = gpd.GeoDataFrame(top_countries_df, geometry=gpd.points_from_xy(top_countries_df['LONGITUDE'], top_countries_df['LATITUDE']))\n",
    "\n",
    "# Specify the hover information \n",
    "hover_cols = ['COUNTRY', 'FLAG_TSUNAMI', 'YEAR', 'FOCAL_DEPTH', 'EQ_PRIMARY','INTENSITY']\n",
    "\n",
    "# Plot the map using hvplot and geoviews\n",
    "map_plot = gdf.hvplot.points(\n",
    "    geo=True,\n",
    "    tiles='CartoLight',\n",
    "    width=700,\n",
    "    height=500,\n",
    "    title='Interactive earthquake map for top 20 countries with highest earthquake counts',\n",
    "    hover_cols=hover_cols)\n",
    "\n",
    "# Saving the fig\n",
    "plt.savefig('Resources/interacive_map_top20_count')\n",
    "\n",
    "# Show the plot\n",
    "map_plot.opts(\n",
    "    tools=['hover', 'pan', 'wheel_zoom'],\n",
    ")"
   ]
  },
  {
   "cell_type": "markdown",
   "id": "f81b726a-42b4-47a1-8a6a-e1109a317077",
   "metadata": {},
   "source": [
    "## visualising the distribution of earthquakes based on latitude and longitude, 2. interactive map using hvplot and geoviews"
   ]
  },
  {
   "cell_type": "code",
   "execution_count": null,
   "id": "3463cbe1-00e7-4e43-ad79-1ee8316912a8",
   "metadata": {},
   "outputs": [],
   "source": [
    "# Define a GeoDataFrame with the earthquakes and their coordinates\n",
    "gdf = gpd.GeoDataFrame(worldwide_earthquake_df, geometry=gpd.points_from_xy(worldwide_earthquake_df['LONGITUDE'], worldwide_earthquake_df['LATITUDE']))\n",
    "\n",
    "# Specify the hover information \n",
    "hover_cols = ['COUNTRY', 'FLAG_TSUNAMI', 'YEAR', 'FOCAL_DEPTH', 'EQ_PRIMARY','INTENSITY']\n",
    "\n",
    "# Plot the map using hvplot and geoviews\n",
    "map_plot = gdf.hvplot.points(\n",
    "    geo=True,\n",
    "    tiles='CartoLight',\n",
    "    width=700,\n",
    "    height=500,\n",
    "    title='Earthquake Interactive Map',\n",
    "    hover_cols=hover_cols)\n",
    "\n",
    "# Saving the fig\n",
    "plt.savefig('Resources/interacive_map')\n",
    "\n",
    "# Show the plot\n",
    "map_plot.opts(\n",
    "    tools=['hover', 'pan', 'wheel_zoom'],\n",
    ")"
   ]
  },
  {
   "cell_type": "markdown",
   "id": "9d1f584d-4ea2-4b57-b32d-0ca2a8ba53ce",
   "metadata": {},
   "source": [
    "## Visalising the earthquake magnitudes over time to check the trends"
   ]
  },
  {
   "cell_type": "markdown",
   "id": "1ec0d2a2-acd7-46da-b049-413e1547d7f8",
   "metadata": {},
   "source": [
    "## Visalising the earthquake magnitudes over time(1900 - latest) to check the trends"
   ]
  },
  {
   "cell_type": "code",
   "execution_count": null,
   "id": "a08218dc-00de-49f4-8773-deabe4adecc8",
   "metadata": {},
   "outputs": [],
   "source": [
    "# Generate a pie plot showing the percentage of earthquakes trigger tsunamis as well\n",
    "tsunami_df = worldwide_earthquake_df[\"FLAG_TSUNAMI\"].value_counts()\n",
    "tsunami_df.plot(kind=\"pie\", autopct=\"%1.1f%%\")\n",
    "plt.ylabel(\"FLAG_TSUNAMI\")\n",
    "plt.show()"
   ]
  }
 ],
 "metadata": {
  "kernelspec": {
   "display_name": "Python 3 (ipykernel)",
   "language": "python",
   "name": "python3"
  },
  "language_info": {
   "codemirror_mode": {
    "name": "ipython",
    "version": 3
   },
   "file_extension": ".py",
   "mimetype": "text/x-python",
   "name": "python",
   "nbconvert_exporter": "python",
   "pygments_lexer": "ipython3",
   "version": "3.11.5"
  }
 },
 "nbformat": 4,
 "nbformat_minor": 5
}
