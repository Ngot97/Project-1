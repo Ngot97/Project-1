{
 "cells": [
  {
   "cell_type": "markdown",
   "id": "edad6849-a8f1-4a43-b5bc-a6b497eadc75",
   "metadata": {},
   "source": [
    "## Explore And Cleaning The Dataset "
   ]
  },
  {
   "cell_type": "code",
   "execution_count": null,
   "id": "b999fea1-211c-4c49-9715-b8a3a3279262",
   "metadata": {},
   "outputs": [],
   "source": [
    "# Dependencies and Setup\n",
    "import matplotlib.pyplot as plt\n",
    "import pandas as pd\n",
    "import numpy as np\n",
    "import hvplot.pandas\n",
    "import geoviews as gv\n",
    "import geopandas as gpd\n",
    "from scipy.stats import linregress\n",
    "import seaborn as sns"
   ]
  },
  {
   "cell_type": "code",
   "execution_count": null,
   "id": "4b9abef4-b24c-4eef-ae45-b395ba2c8113",
   "metadata": {},
   "outputs": [],
   "source": [
    "# Convert the csv file into a Pandas DataFrame\n",
    "primary_df =pd.read_csv(\"Resources/Worldwide-Earthquake-database.csv\", index_col=0)\n",
    "\n",
    "# Display sample data\n",
    "primary_df.head()"
   ]
  },
  {
   "cell_type": "code",
   "execution_count": null,
   "id": "c504a15f-a3a5-4a19-9048-eed21fb76a8f",
   "metadata": {},
   "outputs": [],
   "source": [
    "#Total number of row and columns \n",
    "primary_df.shape"
   ]
  },
  {
   "cell_type": "code",
   "execution_count": null,
   "id": "b9309e2d-9692-495e-8c52-e209604bc644",
   "metadata": {},
   "outputs": [],
   "source": [
    "#Printing the columns' name\n",
    "primary_df.columns"
   ]
  },
  {
   "cell_type": "code",
   "execution_count": null,
   "id": "acbb83e4-80f4-4874-becb-5fcc1162dc17",
   "metadata": {},
   "outputs": [],
   "source": [
    "# Get more information about the columns\n",
    "primary_df.info()"
   ]
  },
  {
   "cell_type": "code",
   "execution_count": null,
   "id": "a3211b71-9bfe-48ec-9748-d581065d57d8",
   "metadata": {},
   "outputs": [],
   "source": [
    "#Narrow down the columns and create a brand new, independent dataframe\n",
    "worldwide_earthquake_df = primary_df[['FLAG_TSUNAMI', 'YEAR', 'MONTH', 'DAY', 'HOUR', 'FOCAL_DEPTH', \n",
    "                                      'EQ_PRIMARY','INTENSITY', 'COUNTRY', 'LATITUDE', 'LONGITUDE',\n",
    "                                      'TOTAL_DEATHS', 'TOTAL_INJURIES']].copy() "
   ]
  },
  {
   "cell_type": "code",
   "execution_count": null,
   "id": "a90d8e03-8664-42ec-b88d-ecd9c232cce1",
   "metadata": {},
   "outputs": [],
   "source": [
    "# Display sample of narrowed down data\n",
    "worldwide_earthquake_df.head(10)"
   ]
  },
  {
   "cell_type": "code",
   "execution_count": null,
   "id": "fe89c5ee-b058-458f-9701-79faad4c2c57",
   "metadata": {},
   "outputs": [],
   "source": [
    "# Display sample of narrowed down data\n",
    "worldwide_earthquake_df.tail(10)"
   ]
  },
  {
   "cell_type": "code",
   "execution_count": null,
   "id": "266ab38f-3b66-4a4e-8bd5-7dbc30cd6855",
   "metadata": {},
   "outputs": [],
   "source": [
    "#Total number of rows and columns of the new dataframe\n",
    "worldwide_earthquake_df.shape"
   ]
  },
  {
   "cell_type": "code",
   "execution_count": null,
   "id": "c8ead36b-38e8-4a16-95b5-75dd6eab88a7",
   "metadata": {},
   "outputs": [],
   "source": [
    "# Get information about the DataFrame\n",
    "worldwide_earthquake_df.info()"
   ]
  },
  {
   "cell_type": "markdown",
   "id": "3f501264-4adb-46be-8918-41ec4577e7fd",
   "metadata": {},
   "source": [
    "#### Handling null values: \n",
    "##### we narrowed down the number of columns that have the most number of null values and also we are not using them for our analysis goals.\n",
    "##### We leave the rest of missing values as is because it is the nature or characteristics of our dataset.\n",
    "##### Comparing the total number of data (rows) 6193 with the number of Non-Null Count of each column shows that we were able to reduce the number of null values by dropping some columns resonabally.\n",
    "##### As it is presented in the head and the tail of the dataset the more resent the data is the less missing value is in our dataset, which is because in many years ago there is not much data recorded. "
   ]
  },
  {
   "cell_type": "code",
   "execution_count": null,
   "id": "e7a03b6e-d6a3-4513-952f-47883a9acc5d",
   "metadata": {},
   "outputs": [],
   "source": [
    "# Convert 'LATITUDE' and 'LONGITUDE' to numeric values and replace any non-numeric values with NaN\n",
    "worldwide_earthquake_df['LATITUDE'] = pd.to_numeric(worldwide_earthquake_df['LATITUDE'], errors='coerce')\n",
    "worldwide_earthquake_df['LONGITUDE'] = pd.to_numeric(worldwide_earthquake_df['LONGITUDE'], errors='coerce')"
   ]
  },
  {
   "cell_type": "markdown",
   "id": "b8507e85-f05c-4980-80c0-02e48645a807",
   "metadata": {},
   "source": [
    "# Visalisation Of Dataset"
   ]
  },
  {
   "cell_type": "code",
   "execution_count": null,
   "id": "de46cca5-b20b-4aa1-aedc-ab1c665bca2d",
   "metadata": {},
   "outputs": [],
   "source": [
    "# Generate a pie plot showing the percentage of earthquakes trigger tsunamis as well\n",
    "tsunami_df = worldwide_earthquake_df[\"FLAG_TSUNAMI\"].value_counts()\n",
    "tsunami_df.plot(kind=\"pie\", autopct=\"%1.1f%%\")\n",
    "plt.ylabel(\"FLAG_TSUNAMI\")\n",
    "plt.show()"
   ]
  },
  {
   "cell_type": "markdown",
   "id": "9278a194-9e47-4aa4-8cbc-5c11df503b43",
   "metadata": {},
   "source": [
    "## Generate a bar chart showing the top 20 countries with the highest earthquake counts"
   ]
  },
  {
   "cell_type": "code",
   "execution_count": null,
   "id": "68916018-f161-4195-9368-21e58bdd4e7d",
   "metadata": {},
   "outputs": [],
   "source": [
    "# Count the number of earthquakes per country\n",
    "earthquake_count_per_country = worldwide_earthquake_df['COUNTRY'].value_counts()\n",
    "\n",
    "# Select the top 20 countries\n",
    "top_countries = earthquake_count_per_country.head(20)\n",
    "\n",
    "# plot the bar chart\n",
    "top_countries.plot(kind='bar', figsize=(12, 6), color='blue')\n",
    "plt.title('Top 20 Countries with the Most Earthquakes')\n",
    "plt.xlabel('Country')\n",
    "plt.ylabel('Number of Earthquakes')\n",
    "plt.savefig('Resources/earthquake_bar_chart.png')\n",
    "plt.show()\n",
    "\n",
    "\n"
   ]
  },
  {
   "cell_type": "markdown",
   "id": "ead8b033-d19e-4b59-8c93-2b89a2ebaba1",
   "metadata": {},
   "source": [
    "## visualising the distribution of earthquakes for the top 20 countries with the highest earthquake counts based on latitude and longitude/ Interactive map using hvplot and geoviews"
   ]
  },
  {
   "cell_type": "code",
   "execution_count": null,
   "id": "a359c207-6ee6-41c4-a4dc-25ac8348c302",
   "metadata": {},
   "outputs": [],
   "source": [
    "# Filter DataFrame for the top 20 countries\n",
    "top_countries_df = worldwide_earthquake_df[worldwide_earthquake_df['COUNTRY'].isin(top_countries.index)]\n",
    "\n",
    "# Define a GeoDataFrame with the earthquakes and their coordinates\n",
    "gdf = gpd.GeoDataFrame(top_countries_df, geometry=gpd.points_from_xy(top_countries_df['LONGITUDE'], top_countries_df['LATITUDE']))\n",
    "\n",
    "# Specify the hover information \n",
    "hover_cols = ['COUNTRY', 'FLAG_TSUNAMI', 'YEAR', 'FOCAL_DEPTH', 'EQ_PRIMARY','INTENSITY']\n",
    "\n",
    "# Plot the map using hvplot and geoviews\n",
    "map_plot = gdf.hvplot.points(\n",
    "    geo=True,\n",
    "    tiles='CartoLight',\n",
    "    width=700,\n",
    "    height=500,\n",
    "    title='Interactive earthquake map for top 20 countries with highest earthquake counts',\n",
    "    hover_cols=hover_cols)\n",
    "\n",
    "# Saving the fig\n",
    "plt.savefig('Resources/interacive_map_top20_count')\n",
    "\n",
    "# Show the plot\n",
    "map_plot.opts(\n",
    "    tools=['hover', 'pan', 'wheel_zoom'],\n",
    ")"
   ]
  },
  {
   "cell_type": "markdown",
   "id": "bd46695b-ec63-46fa-8365-cf6b7feddf7f",
   "metadata": {},
   "source": [
    "## Generate a bar chart showing the top 20 countries with the highest earthquake Intensity(intensity>=7.5)"
   ]
  },
  {
   "cell_type": "code",
   "execution_count": null,
   "id": "5dd7d18e-3764-407f-905a-ccea61cce500",
   "metadata": {},
   "outputs": [],
   "source": [
    "# Filter earthquakes with INTENSITY >= 7.5\n",
    "high_intensity_earthquakes = worldwide_earthquake_df[worldwide_earthquake_df['INTENSITY'] >= 7.5]\n",
    "\n",
    "# Count the number of earthquakes per country\n",
    "earthquake_count_per_country = high_intensity_earthquakes['COUNTRY'].value_counts()\n",
    "\n",
    "# Select the top 20 countries\n",
    "top_countries = earthquake_count_per_country.head(20)\n",
    "\n",
    "# Plotting the bar chart\n",
    "top_countries.plot(kind='bar', figsize=(12, 6), color='red')\n",
    "plt.title('Top 20 Countries with Earthquakes of Intensity >= 7.5')\n",
    "plt.xlabel('Country')\n",
    "plt.ylabel('Number of Earthquakes')\n",
    "plt.savefig('Resources/high_intensity_earthquakes.png')\n",
    "plt.show()"
   ]
  },
  {
   "cell_type": "markdown",
   "id": "9bdf54f5-e3b0-4f8e-bcd1-f687a16e0cd7",
   "metadata": {},
   "source": [
    "## visualising the distribution of earthquakes based on latitude and longitude, 1. using a scatter plot with Matplotlib"
   ]
  },
  {
   "cell_type": "code",
   "execution_count": null,
   "id": "7d85d677-064d-49ca-9f6e-dca8e03fe019",
   "metadata": {},
   "outputs": [],
   "source": [
    "# visualising by using a scatter plot with Matplotlib¶\n",
    "plt.figure(figsize=(10, 8))\n",
    "plt.scatter(worldwide_earthquake_df['LONGITUDE'], worldwide_earthquake_df['LATITUDE'], alpha=0.5, marker='.')\n",
    "plt.title('Distribution of Earthquakes Based on Latitude and Longitude')\n",
    "plt.xlabel('Longitude')\n",
    "plt.ylabel('Latitude')\n",
    "plt.grid(True)\n",
    "plt.savefig('Resources/scatter_plot_map')\n",
    "plt.show()"
   ]
  },
  {
   "cell_type": "markdown",
   "id": "93764c59-7ab2-4bd4-a4ca-7baf6c58da84",
   "metadata": {},
   "source": [
    "## visualising the distribution of earthquakes based on latitude and longitude, 2. interactive map using hvplot and geoviews"
   ]
  },
  {
   "cell_type": "code",
   "execution_count": null,
   "id": "81908497-a2ba-41ec-b88a-c27f7c65e7bf",
   "metadata": {},
   "outputs": [],
   "source": [
    "# Define a GeoDataFrame with the earthquakes and their coordinates\n",
    "gdf = gpd.GeoDataFrame(worldwide_earthquake_df, geometry=gpd.points_from_xy(worldwide_earthquake_df['LONGITUDE'], worldwide_earthquake_df['LATITUDE']))\n",
    "\n",
    "# Specify the hover information \n",
    "hover_cols = ['COUNTRY', 'FLAG_TSUNAMI', 'YEAR', 'FOCAL_DEPTH', 'EQ_PRIMARY','INTENSITY']\n",
    "\n",
    "# Plot the map using hvplot and geoviews\n",
    "map_plot = gdf.hvplot.points(\n",
    "    geo=True,\n",
    "    tiles='CartoLight',\n",
    "    width=700,\n",
    "    height=500,\n",
    "    title='Earthquake Interactive Map',\n",
    "    hover_cols=hover_cols)\n",
    "\n",
    "# Saving the fig\n",
    "plt.savefig('Resources/interacive_map')\n",
    "\n",
    "# Show the plot\n",
    "map_plot.opts(\n",
    "    tools=['hover', 'pan', 'wheel_zoom'],\n",
    ")"
   ]
  },
  {
   "cell_type": "markdown",
   "id": "e069abb1-256e-41a3-b791-e59a966cbcaa",
   "metadata": {},
   "source": [
    "# Analysing patterns in earthquake occurrences related to specific geographical features"
   ]
  },
  {
   "cell_type": "markdown",
   "id": "ca729b10-74d8-4113-b6e9-ed3a94c841fa",
   "metadata": {},
   "source": [
    "### 1. Create a heatmap based on earthquake intensity"
   ]
  },
  {
   "cell_type": "code",
   "execution_count": null,
   "id": "039a5e79-e361-4e35-b427-e790fd1e1ae0",
   "metadata": {},
   "outputs": [],
   "source": [
    "plt.figure(figsize=(12, 8))\n",
    "sns.scatterplot(x='LONGITUDE', y='LATITUDE', hue='INTENSITY', size='INTENSITY', data=worldwide_earthquake_df)\n",
    "plt.title('Earthquake Intensity Distribution')\n",
    "plt.savefig('Resources/earthquake_intensity_heat_map')\n",
    "plt.show()"
   ]
  },
  {
   "cell_type": "markdown",
   "id": "fea06c4a-f532-4d38-a1fc-2806b43173cf",
   "metadata": {},
   "source": [
    "### 2. Investigate the distribution of earthquakes based on focal depth to identify patterns related to the depth of seismic activity."
   ]
  },
  {
   "cell_type": "code",
   "execution_count": null,
   "id": "e2b38fa7-2768-4ca9-aebf-69b1474acc20",
   "metadata": {},
   "outputs": [],
   "source": [
    "plt.figure(figsize=(10, 8))\n",
    "plt.scatter(worldwide_earthquake_df['LONGITUDE'], worldwide_earthquake_df['LATITUDE'], c=worldwide_earthquake_df['FOCAL_DEPTH'], cmap='viridis', s=10)\n",
    "plt.colorbar(label='Focal Depth')\n",
    "plt.title('Earthquake Distribution by Focal Depth')\n",
    "plt.xlabel('Longitude')\n",
    "plt.ylabel('Latitude')\n",
    "plt.savefig('Resources/focal_depth_distribution_map')\n",
    "plt.show()"
   ]
  },
  {
   "cell_type": "markdown",
   "id": "5009f66c-b317-4dae-84df-e5f348dbb83e",
   "metadata": {},
   "source": [
    "## 3. Time Series Analysis: Explore patterns over time by creating a time series plot of earthquake occurrences"
   ]
  },
  {
   "cell_type": "code",
   "execution_count": null,
   "id": "1cfd4af3-fba1-43a0-9e13-a56eb27f13c2",
   "metadata": {},
   "outputs": [],
   "source": [
    "# Using the plot method to create a line plot of the counts of earthquakes for each unique year,\n",
    "plt.figure(figsize=(12, 6))\n",
    "worldwide_earthquake_df.groupby('YEAR').size().plot(marker='o')\n",
    "plt.title('Earthquake Occurrences Over Time')\n",
    "plt.xlabel('Year')\n",
    "plt.ylabel('Number of Earthquakes')\n",
    "plt.grid(True)\n",
    "plt.savefig('Resources/earthquake_occerance_overtime_lineplot_whole')\n",
    "plt.show()"
   ]
  },
  {
   "cell_type": "markdown",
   "id": "e242bf18-721d-422e-a403-fe6ba7e6781d",
   "metadata": {},
   "source": [
    "Let's zoom and check the year since 1900 onward"
   ]
  },
  {
   "cell_type": "code",
   "execution_count": null,
   "id": "804580e1-3a5a-43e0-bead-aeb50e0cf644",
   "metadata": {},
   "outputs": [],
   "source": [
    "plt.figure(figsize=(12, 6))\n",
    "\n",
    "# Set x-axis limits to start from the year 1900\n",
    "plt.xlim(1900, max(worldwide_earthquake_df['YEAR']))\n",
    "worldwide_earthquake_df.groupby('YEAR').size().plot(marker='o')\n",
    "plt.title('Earthquake Occurrences Over Time')\n",
    "plt.xlabel('Year')\n",
    "plt.ylabel('Number of Earthquakes')\n",
    "plt.grid(True)\n",
    "plt.savefig('Resources/earthquake_occerance_overtime_lineplot')\n",
    "plt.show()"
   ]
  },
  {
   "cell_type": "markdown",
   "id": "61c09cd4-71be-4a10-b0b1-94799b498475",
   "metadata": {},
   "source": [
    "This line plot is showing how earthquake counts have changed over time since 1900 till 2020. it has provided  a clear representation of trends and fluctuations An increasing trend is obvious here but to find a trend and check its accuracy using the ststistical parameters, we will create a scatter plot and discuss the result based on our retrieved statistical values.."
   ]
  },
  {
   "cell_type": "markdown",
   "id": "ab2183a8-8b39-4cd8-a88e-24ce4e16b5f2",
   "metadata": {},
   "source": [
    "# Create a scatterplot and Compute Linear Regression "
   ]
  },
  {
   "cell_type": "code",
   "execution_count": null,
   "id": "cc153686-1864-44da-9699-2c808eceb329",
   "metadata": {},
   "outputs": [],
   "source": [
    "# Create a pandas Series that holds the counts of earthquakes for each year in our dataset \n",
    "grouped_data = worldwide_earthquake_df.groupby('YEAR').size()\n",
    "\n",
    "# Filter data for years from 1900 onward\n",
    "filtered_data = grouped_data[grouped_data.index >= 1900]\n",
    "\n",
    "# Linear Regression(linregress function from the scipy.stats module to perform linear regression on our data) \n",
    "slope, intercept, r_value, p_value, std_err = linregress(filtered_data.index, filtered_data.values)\n",
    "\n",
    "# Plot the regression line\n",
    "plt.figure(figsize=(12, 6))\n",
    "plt.scatter(filtered_data.index, filtered_data.values, marker='o', label='Actual Data')\n",
    "\n",
    "# Plot the regression line and annotate the equation\n",
    "reg_line = intercept + slope * filtered_data.index\n",
    "plt.plot(filtered_data.index, reg_line, 'r', label=f'Regression Line: y = {slope:.3f}x + {intercept:.2f}')\n",
    "\n",
    "plt.title('Linear Regression of Earthquake Occurrences Over Time (1900 Onward)')\n",
    "plt.xlabel('Year')\n",
    "plt.ylabel('Number of Earthquakes')\n",
    "plt.legend()\n",
    "plt.annotate(f'R-squared: {r_value**2:.3f}\\nP-value: {p_value:.3e}\\nStandard Error: {std_err:.4f}',\n",
    "             xy=(0.05, 0.85), xycoords='axes fraction', fontsize=10, color='blue')\n",
    "\n",
    "# Display regression statistics\n",
    "print(f\"Slope: {slope}\\nIntercept: {intercept}\\nR-squared: {r_value**2}\\nR-value: {r_value}\\nP-value: {p_value}\\nStandard Error: {std_err}\")\n",
    "\n",
    "plt.savefig('Resources/linear_regression_overtime')\n",
    "\n",
    "plt.show()"
   ]
  },
  {
   "cell_type": "markdown",
   "id": "8fc14798-74cd-4b88-af58-fa9b74d595b6",
   "metadata": {},
   "source": [
    " Analysis: The linear regression results provide valuable information about the relationship between the year and the number of earthquakes. The positive slope(0.2968) suggests that, on average, the number of earthquakes has been increasing over the years. The low p-value (< 0.05) suggests that there is a statistically significant relationship between the year and the number of earthquakes. Our p-value here is (6.10e-19) that there is evidence of an increasing trend in the number of earthquakes over the years. (R-squared: 0.487) ) R-squared indicates the proportion of the variance in the number of earthquakes that is predictable from the year. In this case, approximately 48.7% of the variability in earthquake occurrences can be explained by the linear regression model. It means  the linear model does not explain the majority of the variability in earthquake occurrences, and other factors may contribute to seismic activity. The r-value is  0.6976, it shows a reletively strong relation between the number of earthquakes and the years. Overall, while the linear regression suggests a positive trend, it's essential to interpret the results in the context of the data. We need more geographycal knowledge about earthquake and considering other related factors that can affect the number of earthquaks per  year."
   ]
  },
  {
   "cell_type": "markdown",
   "id": "9f805e02-4e62-4851-a340-0570cf05f3c9",
   "metadata": {},
   "source": [
    "## Visalising the earthquake magnitudes over time to check the trends"
   ]
  },
  {
   "cell_type": "code",
   "execution_count": null,
   "id": "ba7a4afa-3e4c-4271-bd65-c340527c8263",
   "metadata": {},
   "outputs": [],
   "source": [
    "# Drop rows with NaN values in 'EQ_PRIMARY' and 'YEAR'\n",
    "magnitude_time_df = worldwide_earthquake_df.dropna(subset=['EQ_PRIMARY', 'YEAR'])\n",
    "\n",
    "# Create a line plot\n",
    "plt.figure(figsize=(12, 6))\n",
    "sns.lineplot(x='YEAR', y='EQ_PRIMARY', data=magnitude_time_df, ci=None, color='orange')\n",
    "plt.xlabel('Year')\n",
    "plt.ylabel('Earthquake Magnitude (EQ_PRIMARY)')\n",
    "plt.title('Trends in Magnitudes of Significant Earthquakes Over Time')\n",
    "plt.show()"
   ]
  },
  {
   "cell_type": "markdown",
   "id": "61e73b25-313a-48be-b483-2d8bf5272e06",
   "metadata": {},
   "source": [
    "## Visalising the earthquake magnitudes over time(1900 - latest) to check the trends"
   ]
  },
  {
   "cell_type": "code",
   "execution_count": null,
   "id": "bf35fdab-7cea-4f63-bcd8-2eccda4ecc45",
   "metadata": {},
   "outputs": [],
   "source": [
    "# Drop rows with NaN values in 'EQ_PRIMARY' and 'YEAR'\n",
    "magnitude_time_df = worldwide_earthquake_df.dropna(subset=['EQ_PRIMARY', 'YEAR'])\n",
    "\n",
    "# Set the time range for zooming in\n",
    "start_year = 1900\n",
    "end_year = magnitude_time_df['YEAR'].max()\n",
    "\n",
    "# Filter the DataFrame for the specified time range\n",
    "zoomed_df = magnitude_time_df[(magnitude_time_df['YEAR'] >= start_year) & (magnitude_time_df['YEAR'] <= end_year)]\n",
    "\n",
    "# Create a line plot with zoomed-in time range\n",
    "plt.figure(figsize=(12, 6))\n",
    "sns.lineplot(x='YEAR', y='EQ_PRIMARY', data=zoomed_df, ci=None, color='orange')\n",
    "plt.xlabel('Year')\n",
    "plt.ylabel('Earthquake Magnitude (EQ_PRIMARY)')\n",
    "plt.title('Trends in Magnitudes of Significant Earthquakes Over Time (1900 - Latest)')\n",
    "plt.show()"
   ]
  },
  {
   "cell_type": "code",
   "execution_count": null,
   "id": "2a80113a-d030-4e4c-a10d-0431aee66cda",
   "metadata": {},
   "outputs": [],
   "source": []
  }
 ],
 "metadata": {
  "kernelspec": {
   "display_name": "Python 3 (ipykernel)",
   "language": "python",
   "name": "python3"
  },
  "language_info": {
   "codemirror_mode": {
    "name": "ipython",
    "version": 3
   },
   "file_extension": ".py",
   "mimetype": "text/x-python",
   "name": "python",
   "nbconvert_exporter": "python",
   "pygments_lexer": "ipython3",
   "version": "3.11.5"
  }
 },
 "nbformat": 4,
 "nbformat_minor": 5
}
